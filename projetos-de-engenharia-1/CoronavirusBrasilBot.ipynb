{
  "cells": [
    {
      "cell_type": "markdown",
      "metadata": {
        "id": "YhyOiXnk2Ypa"
      },
      "source": [
        "# Instalando dependências"
      ]
    },
    {
      "cell_type": "code",
      "execution_count": null,
      "metadata": {
        "colab": {
          "base_uri": "https://localhost:8080/",
          "height": 905
        },
        "id": "1VgLAKGqKErD",
        "outputId": "1af8fb74-ae2e-42c1-dbc2-fd42b3b659b5"
      },
      "outputs": [],
      "source": [
        "!pip install python-telegram-bot requests matplotlib\n",
        "\n",
        "'''\n",
        "python-telegram-bot: biblioteca para criação de bots escritos em python\n",
        "para o Telegram telegram.\n",
        "\n",
        "requests: biblioteca específica para fazer requisições\n",
        "(pedidos de dados externos).\n",
        "\n",
        "matplotlib: biblioteca com ênfase em dados (útil para criação de gráficos).\n",
        "'''"
      ]
    },
    {
      "cell_type": "markdown",
      "metadata": {
        "id": "PdHIujvg2J5c"
      },
      "source": [
        "# Criando variáveis"
      ]
    },
    {
      "cell_type": "code",
      "execution_count": null,
      "metadata": {
        "id": "mglTVEDZyJO9"
      },
      "outputs": [],
      "source": [
        "\n",
        "primeira_dose = 1.919\n",
        "segunda_unica_dose = 14.228\n",
        "terceira_dose = 49.158\n",
        "total_hoje_doses = 65.305\n",
        "\n",
        "total_primeira_dose = 0\n",
        "total_segunda_dose = 0\n",
        "total_terceira_dose = 0\n",
        "total_doses = 0\n",
        "\n",
        "total_obitos_hoje = 0\n",
        "total_obitos = 0\n",
        "\n",
        "atualizacao = ''"
      ]
    },
    {
      "cell_type": "markdown",
      "metadata": {
        "id": "a8TORu_NuRCn"
      },
      "source": [
        "# Consumindo API"
      ]
    },
    {
      "cell_type": "code",
      "execution_count": null,
      "metadata": {
        "id": "jFlkMONjuTUe"
      },
      "outputs": [],
      "source": [
        "import requests\n",
        "import json\n",
        "\n",
        "# API: forma de comunicações entre aplicações. Esses dados virão em formato json.\n",
        "requisicao = requests.get(\"https://api.vacinacao-covid19.com/coronavirusbra1/tables/global.json?_=1638963356763\")\n",
        "\n",
        "if requisicao.status_code == 200:\n",
        "  dados_texto = requisicao.text\n",
        "  dados_estados = json.loads(dados_texto)\n",
        "  atualizacao = dados_estados[25]['vaccinations']['last_update']\n",
        "\n",
        "  for estado in dados_estados:\n",
        "    total_primeira_dose += estado['vaccinations']['doses_1']\n",
        "    total_segunda_dose += estado['vaccinations']['doses_2'] + estado['vaccinations']['doses_0']\n",
        "    total_terceira_dose += estado['vaccinations']['doses_3']\n",
        "    total_doses += estado['vaccinations']['total']\n",
        "\n",
        "    if estado['deaths']['new'] == None:\n",
        "      total_obitos_hoje += 0\n",
        "    else:\n",
        "      total_obitos_hoje += estado['deaths']['new']\n",
        "\n",
        "    total_obitos += estado['deaths']['total']"
      ]
    },
    {
      "cell_type": "markdown",
      "metadata": {
        "id": "mr_eQNiBQ0Dk"
      },
      "source": [
        "# Formatação de dados"
      ]
    },
    {
      "cell_type": "code",
      "execution_count": null,
      "metadata": {
        "id": "7d0RVZFBQzf4"
      },
      "outputs": [],
      "source": [
        "# Criação de função para a formatação dos dados\n",
        "def formata_numeros(n):\n",
        "  n = f'{n:_.0f}'\n",
        "  n = n.replace(\"_\", \".\")\n",
        "  return n\n",
        "\n",
        "# Atualização (por fatiamento de strings). String = texto.\n",
        "dia = atualizacao[8:10]\n",
        "mes = atualizacao[5:7]\n",
        "ano = atualizacao[0:4]\n",
        "atualizacao = dia + '/' + mes + '/' + ano\n",
        "\n",
        "# Inclusão de pontos nos estritamente numéricos dados numéricos\n",
        "primeira_dose = formata_numeros(primeira_dose)\n",
        "segunda_unica_dose = formata_numeros(segunda_unica_dose)\n",
        "terceira_dose = formata_numeros(terceira_dose)\n",
        "total_hoje_doses = formata_numeros(total_hoje_doses)\n",
        "\n",
        "total_primeira_dose = formata_numeros(total_primeira_dose)\n",
        "total_segunda_dose = formata_numeros(total_segunda_dose)\n",
        "total_terceira_dose = formata_numeros(total_terceira_dose)\n",
        "total_doses = formata_numeros(total_doses)\n",
        "\n",
        "total_obitos_hoje = formata_numeros(total_obitos_hoje)\n",
        "total_obitos = formata_numeros(total_obitos)"
      ]
    },
    {
      "cell_type": "markdown",
      "metadata": {
        "id": "NiXPLaIM7Zzs"
      },
      "source": [
        "# Criação de gráficos"
      ]
    },
    {
      "cell_type": "code",
      "execution_count": null,
      "metadata": {
        "colab": {
          "base_uri": "https://localhost:8080/",
          "height": 248
        },
        "id": "Yidnc-807eGh",
        "outputId": "7f9baf4b-56cc-4acc-e951-52135652419d"
      },
      "outputs": [],
      "source": [
        "import matplotlib.pyplot as plt\n",
        "\n",
        "# Criação de variáveis auxiliares\n",
        "populacao_total = 212538226\n",
        "populacao_totalmente_vacinada = int(total_segunda_dose.replace(\".\", \"\"))\n",
        "porcentagem_vacinada = populacao_totalmente_vacinada/populacao_total * 100\n",
        "\n",
        "# Gráfico de pizza da população vacinada x não vacinada.\n",
        "# Criação de rótulos e porcentagens.\n",
        "labels = \"Pop. totalmente vacinada\", \"Pop. sem nenhuma dose\"\n",
        "sizes = [porcentagem_vacinada, 100 - porcentagem_vacinada]\n",
        "\n",
        "# Criando a representação.\n",
        "fig1, ax1 = plt.subplots()\n",
        "\n",
        "# Criando o gráfico.\n",
        "ax1.pie(sizes, labels = labels, autopct = \"%1.1f%%\",\n",
        "        shadow = True, startangle = 0)\n",
        "\n",
        "# Tornando-o circular.\n",
        "ax1.axis(\"equal\")\n",
        "\n",
        "plt.savefig(\"grafico.png\")\n",
        "referencia = \"grafico.png\""
      ]
    },
    {
      "cell_type": "markdown",
      "metadata": {
        "id": "tCvekYhW2TFA"
      },
      "source": [
        "# Definição de comportamentos do bot"
      ]
    },
    {
      "cell_type": "code",
      "execution_count": null,
      "metadata": {
        "colab": {
          "base_uri": "https://localhost:8080/"
        },
        "id": "G9DJT12oKP-u",
        "outputId": "47786b98-daa4-4ddd-caee-84c64b44c717"
      },
      "outputs": [],
      "source": [
        "import logging\n",
        "\n",
        "from telegram import Update, ForceReply\n",
        "from telegram.ext import Updater, CommandHandler, MessageHandler, Filters, CallbackContext\n",
        "\n",
        "logging.basicConfig(\n",
        "    format='%(asctime)s - %(name)s - %(levelname)s - %(message)s', level=logging.INFO\n",
        ")\n",
        "\n",
        "logger = logging.getLogger(__name__)\n",
        "\n",
        "def fonte():\n",
        "  return f\"Fonte dos dados: https://coronavirusbra1.github.io/\"\n",
        "\n",
        "def start(update: Update, context: CallbackContext) -> None:\n",
        "  update.message.reply_text(\"Use os comandos para receber as informações mais recentes da covid no país.\\nCaso tenha dúvidas quanto ao funcionamento do bot, use /ajuda.\")\n",
        "  update.message.reply_text(fonte())\n",
        "\n",
        "def vachoje(update: Update, context: CallbackContext) -> None:\n",
        "  update.message.reply_text(f\"1ª dose: {primeira_dose}\\n2ª e única: {segunda_unica_dose}\\n3ª dose: {terceira_dose}\\nTotal de doses aplicadas hoje: {total_hoje_doses}\\nÚltima atualização: {atualizacao}\")\n",
        "  update.message.reply_text(fonte())\n",
        "\n",
        "def vactotal(update: Update, context: CallbackContext) -> None:\n",
        "  update.message.reply_text(f\"1ª dose: {total_primeira_dose}\\n2ª e única: {total_segunda_dose}\\n3ª dose: {total_terceira_dose}\\nTotal de doses aplicadas: {total_doses}\\nÚltima atualização: {atualizacao}\")\n",
        "  update.message.reply_photo(photo = open(referencia, \"rb\"))\n",
        "  update.message.reply_text(fonte())\n",
        "\n",
        "def obithoje(update: Update, context: CallbackContext) -> None:\n",
        "  update.message.reply_text(f\"Número de óbitos registrados hoje: {total_obitos_hoje}\\nÚltima atualização: {atualizacao}\")\n",
        "  update.message.reply_text(fonte())\n",
        "\n",
        "def obittotal(update: Update, context: CallbackContext) -> None:\n",
        "  update.message.reply_text(f\"Total de óbitos: {total_obitos}\\nÚltima atualização: {atualizacao}\")\n",
        "  update.message.reply_text(fonte())\n",
        "\n",
        "def ajuda(update: Update, context: CallbackContext) -> None:\n",
        "  update.message.reply_text(\"Utilize os seguintes comandos:\\n/vachoje (Saber dados da vacinação de hoje)\\n/obithoje (Saber dados de óbitos de hoje)\\n/vactotal (Saber dados sobre o total de pessoas vacinadas)\\n/obittotal (Saber dados sobre o total de óbitos pela doença)\")\n",
        "\n",
        "def main():\n",
        "  #Iniciando bot\n",
        "  updater = Updater(\"token\")\n",
        "  dispatcher = updater.dispatcher\n",
        "\n",
        "  dispatcher.add_handler(CommandHandler(\"start\", start))\n",
        "  dispatcher.add_handler(CommandHandler(\"vachoje\", vachoje))\n",
        "  dispatcher.add_handler(CommandHandler(\"obithoje\", obithoje))\n",
        "  dispatcher.add_handler(CommandHandler(\"vactotal\", vactotal))\n",
        "  dispatcher.add_handler(CommandHandler(\"obittotal\", obittotal))\n",
        "  dispatcher.add_handler(CommandHandler(\"ajuda\", ajuda))\n",
        "\n",
        "  updater.start_polling()\n",
        "\n",
        "  updater.idle()\n",
        "\n",
        "if __name__ == '__main__':\n",
        "  main()"
      ]
    },
    {
      "cell_type": "code",
      "execution_count": null,
      "metadata": {
        "id": "av8sDYlgC41A"
      },
      "outputs": [],
      "source": []
    }
  ],
  "metadata": {
    "colab": {
      "collapsed_sections": [],
      "name": "CoronavirusBrasilBot",
      "provenance": [],
      "toc_visible": true
    },
    "kernelspec": {
      "display_name": "Python 3",
      "name": "python3"
    },
    "language_info": {
      "name": "python"
    }
  },
  "nbformat": 4,
  "nbformat_minor": 0
}
