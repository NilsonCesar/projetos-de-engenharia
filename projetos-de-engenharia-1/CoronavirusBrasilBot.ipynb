{
  "cells": [
    {
      "cell_type": "markdown",
      "metadata": {
        "id": "YhyOiXnk2Ypa"
      },
      "source": [
        "# Instalando dependências"
      ]
    },
    {
      "cell_type": "code",
      "execution_count": null,
      "metadata": {
        "colab": {
          "base_uri": "https://localhost:8080/",
          "height": 905
        },
        "id": "1VgLAKGqKErD",
        "outputId": "70c86056-0550-47fb-e34e-7a0cebfad4f8"
      },
      "outputs": [
        {
          "name": "stdout",
          "output_type": "stream",
          "text": [
            "Collecting python-telegram-bot\n",
            "  Downloading python_telegram_bot-13.8.1-py3-none-any.whl (495 kB)\n",
            "\u001b[?25l\r\u001b[K     |▋                               | 10 kB 24.8 MB/s eta 0:00:01\r\u001b[K     |█▎                              | 20 kB 28.3 MB/s eta 0:00:01\r\u001b[K     |██                              | 30 kB 18.6 MB/s eta 0:00:01\r\u001b[K     |██▋                             | 40 kB 15.2 MB/s eta 0:00:01\r\u001b[K     |███▎                            | 51 kB 6.6 MB/s eta 0:00:01\r\u001b[K     |████                            | 61 kB 7.2 MB/s eta 0:00:01\r\u001b[K     |████▋                           | 71 kB 7.5 MB/s eta 0:00:01\r\u001b[K     |█████▎                          | 81 kB 8.4 MB/s eta 0:00:01\r\u001b[K     |██████                          | 92 kB 8.5 MB/s eta 0:00:01\r\u001b[K     |██████▋                         | 102 kB 6.5 MB/s eta 0:00:01\r\u001b[K     |███████▎                        | 112 kB 6.5 MB/s eta 0:00:01\r\u001b[K     |████████                        | 122 kB 6.5 MB/s eta 0:00:01\r\u001b[K     |████████▋                       | 133 kB 6.5 MB/s eta 0:00:01\r\u001b[K     |█████████▎                      | 143 kB 6.5 MB/s eta 0:00:01\r\u001b[K     |██████████                      | 153 kB 6.5 MB/s eta 0:00:01\r\u001b[K     |██████████▋                     | 163 kB 6.5 MB/s eta 0:00:01\r\u001b[K     |███████████▎                    | 174 kB 6.5 MB/s eta 0:00:01\r\u001b[K     |████████████                    | 184 kB 6.5 MB/s eta 0:00:01\r\u001b[K     |████████████▋                   | 194 kB 6.5 MB/s eta 0:00:01\r\u001b[K     |█████████████▎                  | 204 kB 6.5 MB/s eta 0:00:01\r\u001b[K     |██████████████                  | 215 kB 6.5 MB/s eta 0:00:01\r\u001b[K     |██████████████▋                 | 225 kB 6.5 MB/s eta 0:00:01\r\u001b[K     |███████████████▏                | 235 kB 6.5 MB/s eta 0:00:01\r\u001b[K     |███████████████▉                | 245 kB 6.5 MB/s eta 0:00:01\r\u001b[K     |████████████████▌               | 256 kB 6.5 MB/s eta 0:00:01\r\u001b[K     |█████████████████▏              | 266 kB 6.5 MB/s eta 0:00:01\r\u001b[K     |█████████████████▉              | 276 kB 6.5 MB/s eta 0:00:01\r\u001b[K     |██████████████████▌             | 286 kB 6.5 MB/s eta 0:00:01\r\u001b[K     |███████████████████▏            | 296 kB 6.5 MB/s eta 0:00:01\r\u001b[K     |███████████████████▉            | 307 kB 6.5 MB/s eta 0:00:01\r\u001b[K     |████████████████████▌           | 317 kB 6.5 MB/s eta 0:00:01\r\u001b[K     |█████████████████████▏          | 327 kB 6.5 MB/s eta 0:00:01\r\u001b[K     |█████████████████████▉          | 337 kB 6.5 MB/s eta 0:00:01\r\u001b[K     |██████████████████████▌         | 348 kB 6.5 MB/s eta 0:00:01\r\u001b[K     |███████████████████████▏        | 358 kB 6.5 MB/s eta 0:00:01\r\u001b[K     |███████████████████████▉        | 368 kB 6.5 MB/s eta 0:00:01\r\u001b[K     |████████████████████████▌       | 378 kB 6.5 MB/s eta 0:00:01\r\u001b[K     |█████████████████████████▏      | 389 kB 6.5 MB/s eta 0:00:01\r\u001b[K     |█████████████████████████▉      | 399 kB 6.5 MB/s eta 0:00:01\r\u001b[K     |██████████████████████████▌     | 409 kB 6.5 MB/s eta 0:00:01\r\u001b[K     |███████████████████████████▏    | 419 kB 6.5 MB/s eta 0:00:01\r\u001b[K     |███████████████████████████▉    | 430 kB 6.5 MB/s eta 0:00:01\r\u001b[K     |████████████████████████████▌   | 440 kB 6.5 MB/s eta 0:00:01\r\u001b[K     |█████████████████████████████▏  | 450 kB 6.5 MB/s eta 0:00:01\r\u001b[K     |█████████████████████████████▊  | 460 kB 6.5 MB/s eta 0:00:01\r\u001b[K     |██████████████████████████████▍ | 471 kB 6.5 MB/s eta 0:00:01\r\u001b[K     |███████████████████████████████ | 481 kB 6.5 MB/s eta 0:00:01\r\u001b[K     |███████████████████████████████▊| 491 kB 6.5 MB/s eta 0:00:01\r\u001b[K     |████████████████████████████████| 495 kB 6.5 MB/s \n",
            "\u001b[?25hRequirement already satisfied: requests in /usr/local/lib/python3.7/dist-packages (2.23.0)\n",
            "Requirement already satisfied: matplotlib in /usr/local/lib/python3.7/dist-packages (3.2.2)\n",
            "Collecting tornado>=6.1\n",
            "  Downloading tornado-6.1-cp37-cp37m-manylinux2010_x86_64.whl (428 kB)\n",
            "\u001b[K     |████████████████████████████████| 428 kB 46.7 MB/s \n",
            "\u001b[?25hRequirement already satisfied: pytz>=2018.6 in /usr/local/lib/python3.7/dist-packages (from python-telegram-bot) (2018.9)\n",
            "Collecting cachetools==4.2.2\n",
            "  Downloading cachetools-4.2.2-py3-none-any.whl (11 kB)\n",
            "Collecting APScheduler==3.6.3\n",
            "  Downloading APScheduler-3.6.3-py2.py3-none-any.whl (58 kB)\n",
            "\u001b[K     |████████████████████████████████| 58 kB 7.1 MB/s \n",
            "\u001b[?25hRequirement already satisfied: certifi in /usr/local/lib/python3.7/dist-packages (from python-telegram-bot) (2021.10.8)\n",
            "Requirement already satisfied: tzlocal>=1.2 in /usr/local/lib/python3.7/dist-packages (from APScheduler==3.6.3->python-telegram-bot) (1.5.1)\n",
            "Requirement already satisfied: setuptools>=0.7 in /usr/local/lib/python3.7/dist-packages (from APScheduler==3.6.3->python-telegram-bot) (57.4.0)\n",
            "Requirement already satisfied: six>=1.4.0 in /usr/local/lib/python3.7/dist-packages (from APScheduler==3.6.3->python-telegram-bot) (1.15.0)\n",
            "Requirement already satisfied: urllib3!=1.25.0,!=1.25.1,<1.26,>=1.21.1 in /usr/local/lib/python3.7/dist-packages (from requests) (1.24.3)\n",
            "Requirement already satisfied: idna<3,>=2.5 in /usr/local/lib/python3.7/dist-packages (from requests) (2.10)\n",
            "Requirement already satisfied: chardet<4,>=3.0.2 in /usr/local/lib/python3.7/dist-packages (from requests) (3.0.4)\n",
            "Requirement already satisfied: kiwisolver>=1.0.1 in /usr/local/lib/python3.7/dist-packages (from matplotlib) (1.3.2)\n",
            "Requirement already satisfied: pyparsing!=2.0.4,!=2.1.2,!=2.1.6,>=2.0.1 in /usr/local/lib/python3.7/dist-packages (from matplotlib) (3.0.6)\n",
            "Requirement already satisfied: numpy>=1.11 in /usr/local/lib/python3.7/dist-packages (from matplotlib) (1.19.5)\n",
            "Requirement already satisfied: python-dateutil>=2.1 in /usr/local/lib/python3.7/dist-packages (from matplotlib) (2.8.2)\n",
            "Requirement already satisfied: cycler>=0.10 in /usr/local/lib/python3.7/dist-packages (from matplotlib) (0.11.0)\n",
            "Installing collected packages: tornado, cachetools, APScheduler, python-telegram-bot\n",
            "  Attempting uninstall: tornado\n",
            "    Found existing installation: tornado 5.1.1\n",
            "    Uninstalling tornado-5.1.1:\n",
            "      Successfully uninstalled tornado-5.1.1\n",
            "  Attempting uninstall: cachetools\n",
            "    Found existing installation: cachetools 4.2.4\n",
            "    Uninstalling cachetools-4.2.4:\n",
            "      Successfully uninstalled cachetools-4.2.4\n",
            "\u001b[31mERROR: pip's dependency resolver does not currently take into account all the packages that are installed. This behaviour is the source of the following dependency conflicts.\n",
            "google-colab 1.0.0 requires tornado~=5.1.0; python_version >= \"3.0\", but you have tornado 6.1 which is incompatible.\u001b[0m\n",
            "Successfully installed APScheduler-3.6.3 cachetools-4.2.2 python-telegram-bot-13.8.1 tornado-6.1\n"
          ]
        },
        {
          "data": {
            "application/vnd.colab-display-data+json": {
              "pip_warning": {
                "packages": [
                  "tornado"
                ]
              }
            }
          },
          "metadata": {},
          "output_type": "display_data"
        },
        {
          "data": {
            "application/vnd.google.colaboratory.intrinsic+json": {
              "type": "string"
            },
            "text/plain": [
              "'\\npython-telegram-bot: biblioteca para criação de bots escritos em python\\npara o Telegram telegram.\\n\\nrequests: biblioteca específica para fazer requisições\\n(pedidos de dados externos).\\n\\nmatplotlib: biblioteca com ênfase em dados (útil para criação de gráficos).\\n'"
            ]
          },
          "execution_count": 1,
          "metadata": {},
          "output_type": "execute_result"
        }
      ],
      "source": [
        "!pip install python-telegram-bot requests matplotlib\n",
        "\n",
        "'''\n",
        "python-telegram-bot: biblioteca para criação de bots escritos em python\n",
        "para o Telegram telegram.\n",
        "\n",
        "requests: biblioteca específica para fazer requisições\n",
        "(pedidos de dados externos).\n",
        "\n",
        "matplotlib: biblioteca com ênfase em dados (útil para criação de gráficos).\n",
        "'''"
      ]
    },
    {
      "cell_type": "markdown",
      "metadata": {
        "id": "PdHIujvg2J5c"
      },
      "source": [
        "# Criando variáveis"
      ]
    },
    {
      "cell_type": "code",
      "execution_count": null,
      "metadata": {
        "id": "mglTVEDZyJO9"
      },
      "outputs": [],
      "source": [
        "\n",
        "primeira_dose = 29\n",
        "segunda_unica_dose = 228\n",
        "terceira_dose = 1.009\n",
        "total_hoje_doses = 1.266\n",
        "\n",
        "total_primeira_dose = 0\n",
        "total_segunda_dose = 0\n",
        "total_terceira_dose = 0\n",
        "total_doses = 0\n",
        "\n",
        "total_obitos_hoje = 0\n",
        "total_obitos = 0\n",
        "\n",
        "atualizacao = ''"
      ]
    },
    {
      "cell_type": "markdown",
      "metadata": {
        "id": "a8TORu_NuRCn"
      },
      "source": [
        "# Consumindo API"
      ]
    },
    {
      "cell_type": "code",
      "execution_count": null,
      "metadata": {
        "id": "jFlkMONjuTUe"
      },
      "outputs": [],
      "source": [
        "import requests\n",
        "import json\n",
        "\n",
        "# API: forma de comunicações entre aplicações. Esses dados virão em formato json.\n",
        "requisicao = requests.get(\"https://api.vacinacao-covid19.com/coronavirusbra1/tables/global.json?_=1638963356763\")\n",
        "\n",
        "if requisicao.status_code == 200:\n",
        "  dados_texto = requisicao.text\n",
        "  dados_estados = json.loads(dados_texto)\n",
        "  atualizacao = dados_estados[0]['vaccinations']['last_update']\n",
        "\n",
        "  for estado in dados_estados:\n",
        "    total_primeira_dose += estado['vaccinations']['doses_1']\n",
        "    total_segunda_dose += estado['vaccinations']['doses_2'] + estado['vaccinations']['doses_0']\n",
        "    total_terceira_dose += estado['vaccinations']['doses_3']\n",
        "    total_doses += estado['vaccinations']['total']\n",
        "\n",
        "    if estado['deaths']['new'] == None:\n",
        "      total_obitos_hoje += 0\n",
        "    else:\n",
        "      total_obitos_hoje += estado['deaths']['new']\n",
        "\n",
        "    total_obitos += estado['deaths']['total']"
      ]
    },
    {
      "cell_type": "markdown",
      "metadata": {
        "id": "mr_eQNiBQ0Dk"
      },
      "source": [
        "# Formatação de dados"
      ]
    },
    {
      "cell_type": "code",
      "execution_count": null,
      "metadata": {
        "id": "7d0RVZFBQzf4"
      },
      "outputs": [],
      "source": [
        "# Criação de função para a formatação dos dados\n",
        "def formata_numeros(n):\n",
        "  n = f'{n:_.0f}'\n",
        "  n = n.replace(\"_\", \".\")\n",
        "  return n\n",
        "\n",
        "# Atualização (por fatiamento de strings). String = texto.\n",
        "dia = atualizacao[8:10]\n",
        "mes = atualizacao[5:7]\n",
        "ano = atualizacao[0:4]\n",
        "atualizacao = dia + '/' + mes + '/' + ano\n",
        "\n",
        "# Inclusão de pontos nos estritamente numéricos dados numéricos\n",
        "primeira_dose = formata_numeros(primeira_dose)\n",
        "segunda_unica_dose = formata_numeros(segunda_unica_dose)\n",
        "terceira_dose = formata_numeros(terceira_dose)\n",
        "total_hoje_doses = formata_numeros(total_hoje_doses)\n",
        "\n",
        "total_primeira_dose = formata_numeros(total_primeira_dose)\n",
        "total_segunda_dose = formata_numeros(total_segunda_dose)\n",
        "total_terceira_dose = formata_numeros(total_terceira_dose)\n",
        "total_doses = formata_numeros(total_doses)\n",
        "\n",
        "total_obitos_hoje = formata_numeros(total_obitos_hoje)\n",
        "total_obitos = formata_numeros(total_obitos)"
      ]
    },
    {
      "cell_type": "markdown",
      "metadata": {
        "id": "NiXPLaIM7Zzs"
      },
      "source": [
        "# Criação de gráficos"
      ]
    },
    {
      "cell_type": "code",
      "execution_count": null,
      "metadata": {
        "colab": {
          "base_uri": "https://localhost:8080/",
          "height": 248
        },
        "id": "Yidnc-807eGh",
        "outputId": "02f09484-b8da-41fd-c4ce-511900be5062"
      },
      "outputs": [
        {
          "data": {
            "image/png": "[encoded data removed]",
            "text/plain": [
              "<Figure size 432x288 with 1 Axes>"
            ]
          },
          "metadata": {},
          "output_type": "display_data"
        }
      ],
      "source": [
        "import matplotlib.pyplot as plt\n",
        "\n",
        "# Criação de variáveis auxiliares\n",
        "populacao_total = 212538226\n",
        "populacao_totalmente_vacinada = int(total_segunda_dose.replace(\".\", \"\"))\n",
        "porcentagem_vacinada = populacao_totalmente_vacinada/populacao_total * 100\n",
        "\n",
        "# Gráfico de pizza da população vacinada x não vacinada.\n",
        "# Criação de rótulos e porcentagens.\n",
        "labels = \"Pop. totalmente vacinada\", \"Pop. sem nenhuma dose\"\n",
        "sizes = [porcentagem_vacinada, 100 - porcentagem_vacinada]\n",
        "\n",
        "# Criando a representação.\n",
        "fig1, ax1 = plt.subplots()\n",
        "\n",
        "# Criando o gráfico.\n",
        "ax1.pie(sizes, labels = labels, autopct = \"%1.1f%%\",\n",
        "        shadow = True, startangle = 0)\n",
        "\n",
        "# Tornando-o circular.\n",
        "ax1.axis(\"equal\")\n",
        "\n",
        "plt.savefig(\"grafico.png\")\n",
        "referencia = \"grafico.png\""
      ]
    },
    {
      "cell_type": "markdown",
      "metadata": {
        "id": "tCvekYhW2TFA"
      },
      "source": [
        "# Definição de comportamentos do bot"
      ]
    },
    {
      "cell_type": "code",
      "execution_count": null,
      "metadata": {
        "colab": {
          "base_uri": "https://localhost:8080/"
        },
        "id": "G9DJT12oKP-u",
        "outputId": "3c2e46b7-dc33-4f83-b569-c064f9587c50"
      },
      "outputs": [
        {
          "name": "stderr",
          "output_type": "stream",
          "text": [
            "2021-12-10 17:48:31,985 - apscheduler.scheduler - INFO - Scheduler started\n",
            "2021-12-10 17:49:04,518 - telegram.ext.updater - INFO - Received signal 2 (SIGINT), stopping...\n",
            "2021-12-10 17:49:04,520 - apscheduler.scheduler - INFO - Scheduler has been shut down\n"
          ]
        }
      ],
      "source": [
        "import logging\n",
        "\n",
        "from telegram import Update, ForceReply\n",
        "from telegram.ext import Updater, CommandHandler, MessageHandler, Filters, CallbackContext\n",
        "\n",
        "logging.basicConfig(\n",
        "    format='%(asctime)s - %(name)s - %(levelname)s - %(message)s', level=logging.INFO\n",
        ")\n",
        "\n",
        "logger = logging.getLogger(__name__)\n",
        "\n",
        "def start(update: Update, context: CallbackContext) -> None:\n",
        "  update.message.reply_text('Use os comandos para receber as informações mais recentes da covid no país.\\nCaso tenha dúvidas quanto ao funcionamento do bot, use /ajuda.')\n",
        "\n",
        "def vachoje(update: Update, context: CallbackContext) -> None:\n",
        "  update.message.reply_text(f\"1ª dose: {primeira_dose}\\n2ª e única: {segunda_unica_dose}\\n3ª dose: {terceira_dose}\\nTotal de doses aplicadas hoje: {total_hoje_doses}\\nÚltima atualização: {atualizacao}\")\n",
        "\n",
        "def vactotal(update: Update, context: CallbackContext) -> None:\n",
        "  update.message.reply_text(f\"1ª dose: {total_primeira_dose}\\n2ª e única: {total_segunda_dose}\\n3ª dose: {total_terceira_dose}\\nTotal de doses aplicadas: {total_doses}\\nÚltima atualização: {atualizacao}\")\n",
        "  update.message.reply_photo(photo = open(referencia, \"rb\"))\n",
        "\n",
        "def obithoje(update: Update, context: CallbackContext) -> None:\n",
        "  update.message.reply_text(f\"Número de óbitos registrados hoje: {total_obitos_hoje}\\nÚltima atualização: {atualizacao}\")\n",
        "\n",
        "def obittotal(update: Update, context: CallbackContext) -> None:\n",
        "  update.message.reply_text(f\"Total de óbitos: {total_obitos}\\nÚltima atualização: {atualizacao}\")\n",
        "\n",
        "def ajuda(update: Update, context: CallbackContext) -> None:\n",
        "  update.message.reply_text(\"Utilize os seguintes comandos:\\n/vachoje (Saber dados da vacinação de hoje)\\n/obithoje (Saber dados de óbitos de hoje)\\n/vactotal (Saber dados sobre o total de pessoas vacinadas)\\n/obittotal (Saber dados sobre o total de óbitos pela doença)\")\n",
        "\n",
        "def main():\n",
        "  #Iniciando bot\n",
        "  updater = Updater(\"token\")\n",
        "  dispatcher = updater.dispatcher\n",
        "\n",
        "  dispatcher.add_handler(CommandHandler(\"start\", start))\n",
        "  dispatcher.add_handler(CommandHandler(\"vachoje\", vachoje))\n",
        "  dispatcher.add_handler(CommandHandler(\"obithoje\", obithoje))\n",
        "  dispatcher.add_handler(CommandHandler(\"vactotal\", vactotal))\n",
        "  dispatcher.add_handler(CommandHandler(\"obittotal\", obittotal))\n",
        "  dispatcher.add_handler(CommandHandler(\"ajuda\", ajuda))\n",
        "\n",
        "  updater.start_polling()\n",
        "\n",
        "  updater.idle()\n",
        "\n",
        "if __name__ == '__main__':\n",
        "  main()"
      ]
    }
  ],
  "metadata": {
    "colab": {
      "collapsed_sections": [],
      "name": "CoronavirusBrasilBot",
      "provenance": [],
      "toc_visible": true
    },
    "kernelspec": {
      "display_name": "Python 3",
      "name": "python3"
    },
    "language_info": {
      "name": "python"
    }
  },
  "nbformat": 4,
  "nbformat_minor": 0
}
